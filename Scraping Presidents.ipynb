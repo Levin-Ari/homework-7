{
 "cells": [
  {
   "cell_type": "code",
   "execution_count": 36,
   "id": "8102279e-140a-4ad3-9d6a-ad9219b0145f",
   "metadata": {},
   "outputs": [],
   "source": [
    "import pandas as pd\n",
    "url = \"https://en.wikipedia.org/wiki/List_of_presidents_of_the_United_States\"\n",
    "\n",
    "df = pd.read_html(url)[0]"
   ]
  },
  {
   "cell_type": "code",
   "execution_count": 37,
   "id": "afbae9c2-a67b-42b7-b8eb-61e4818cd3d6",
   "metadata": {},
   "outputs": [],
   "source": [
    "df = df.drop(columns=['Portrait', 'Party[b][17]'])"
   ]
  },
  {
   "cell_type": "code",
   "execution_count": 38,
   "id": "8eee83f9-21f2-4d7e-b51f-99e0a30e1fb6",
   "metadata": {},
   "outputs": [
    {
     "data": {
      "text/html": [
       "<div>\n",
       "<style scoped>\n",
       "    .dataframe tbody tr th:only-of-type {\n",
       "        vertical-align: middle;\n",
       "    }\n",
       "\n",
       "    .dataframe tbody tr th {\n",
       "        vertical-align: top;\n",
       "    }\n",
       "\n",
       "    .dataframe thead th {\n",
       "        text-align: right;\n",
       "    }\n",
       "</style>\n",
       "<table border=\"1\" class=\"dataframe\">\n",
       "  <thead>\n",
       "    <tr style=\"text-align: right;\">\n",
       "      <th></th>\n",
       "      <th>No.[a]</th>\n",
       "      <th>Name (birth–death)</th>\n",
       "      <th>Term[16]</th>\n",
       "      <th>Party[b][17].1</th>\n",
       "      <th>Election</th>\n",
       "      <th>Vice President[18]</th>\n",
       "    </tr>\n",
       "  </thead>\n",
       "  <tbody>\n",
       "    <tr>\n",
       "      <th>0</th>\n",
       "      <td>1</td>\n",
       "      <td>George Washington (1732–1799) [19]</td>\n",
       "      <td>April 30, 1789 – March 4, 1797</td>\n",
       "      <td>Unaffiliated</td>\n",
       "      <td>1788–891792</td>\n",
       "      <td>John Adams[c]</td>\n",
       "    </tr>\n",
       "    <tr>\n",
       "      <th>1</th>\n",
       "      <td>2</td>\n",
       "      <td>John Adams (1735–1826) [21]</td>\n",
       "      <td>March 4, 1797 – March 4, 1801</td>\n",
       "      <td>Federalist</td>\n",
       "      <td>1796</td>\n",
       "      <td>Thomas Jefferson[d]</td>\n",
       "    </tr>\n",
       "    <tr>\n",
       "      <th>2</th>\n",
       "      <td>3</td>\n",
       "      <td>Thomas Jefferson (1743–1826) [23]</td>\n",
       "      <td>March 4, 1801 – March 4, 1809</td>\n",
       "      <td>Democratic- Republican</td>\n",
       "      <td>1800 1804</td>\n",
       "      <td>Aaron BurrGeorge Clinton</td>\n",
       "    </tr>\n",
       "    <tr>\n",
       "      <th>3</th>\n",
       "      <td>4</td>\n",
       "      <td>James Madison (1751–1836) [24]</td>\n",
       "      <td>March 4, 1809 – March 4, 1817</td>\n",
       "      <td>Democratic- Republican</td>\n",
       "      <td>18081812</td>\n",
       "      <td>George Clinton[e]Vacant after April 20, 1812El...</td>\n",
       "    </tr>\n",
       "    <tr>\n",
       "      <th>4</th>\n",
       "      <td>5</td>\n",
       "      <td>James Monroe (1758–1831) [26]</td>\n",
       "      <td>March 4, 1817 – March 4, 1825</td>\n",
       "      <td>Democratic- Republican</td>\n",
       "      <td>18161820</td>\n",
       "      <td>Daniel D. Tompkins</td>\n",
       "    </tr>\n",
       "  </tbody>\n",
       "</table>\n",
       "</div>"
      ],
      "text/plain": [
       "   No.[a]                  Name (birth–death)                        Term[16]  \\\n",
       "0       1  George Washington (1732–1799) [19]  April 30, 1789 – March 4, 1797   \n",
       "1       2         John Adams (1735–1826) [21]   March 4, 1797 – March 4, 1801   \n",
       "2       3   Thomas Jefferson (1743–1826) [23]   March 4, 1801 – March 4, 1809   \n",
       "3       4      James Madison (1751–1836) [24]   March 4, 1809 – March 4, 1817   \n",
       "4       5       James Monroe (1758–1831) [26]   March 4, 1817 – March 4, 1825   \n",
       "\n",
       "           Party[b][17].1     Election  \\\n",
       "0            Unaffiliated  1788–891792   \n",
       "1              Federalist         1796   \n",
       "2  Democratic- Republican    1800 1804   \n",
       "3  Democratic- Republican     18081812   \n",
       "4  Democratic- Republican     18161820   \n",
       "\n",
       "                                  Vice President[18]  \n",
       "0                                      John Adams[c]  \n",
       "1                                Thomas Jefferson[d]  \n",
       "2                           Aaron BurrGeorge Clinton  \n",
       "3  George Clinton[e]Vacant after April 20, 1812El...  \n",
       "4                                 Daniel D. Tompkins  "
      ]
     },
     "execution_count": 38,
     "metadata": {},
     "output_type": "execute_result"
    }
   ],
   "source": [
    "df.head()"
   ]
  },
  {
   "cell_type": "code",
   "execution_count": 39,
   "id": "f6433204-2f48-4466-936a-60d34f5da24d",
   "metadata": {},
   "outputs": [],
   "source": [
    "df = df.rename(columns={'No.[a]':'No.', 'Term[16]':'Term', 'Party[b][17].1':'Party','Vice President[18]':'Vice President'})"
   ]
  },
  {
   "cell_type": "code",
   "execution_count": 40,
   "id": "526cc479-1b36-450a-82af-31cfffc22312",
   "metadata": {},
   "outputs": [],
   "source": [
    "df.to_csv(\"Presidents.csv\")"
   ]
  }
 ],
 "metadata": {
  "kernelspec": {
   "display_name": "Python 3 (ipykernel)",
   "language": "python",
   "name": "python3"
  },
  "language_info": {
   "codemirror_mode": {
    "name": "ipython",
    "version": 3
   },
   "file_extension": ".py",
   "mimetype": "text/x-python",
   "name": "python",
   "nbconvert_exporter": "python",
   "pygments_lexer": "ipython3",
   "version": "3.12.10"
  }
 },
 "nbformat": 4,
 "nbformat_minor": 5
}

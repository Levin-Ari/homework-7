{
 "cells": [
  {
   "cell_type": "code",
   "execution_count": 62,
   "id": "7413d391-c4d7-4780-a872-9483554c6038",
   "metadata": {},
   "outputs": [],
   "source": [
    "import requests\n",
    "from bs4 import BeautifulSoup\n",
    "import pandas as pd\n",
    "\n",
    "url = \"https://travel-id-documents.az.gov/authorized-third-party-driver-license-locations\"\n",
    "headers = {\n",
    "    'User-Agent': 'Mozilla/5.0 (Windows NT 10.0; Win64; x64) AppleWebKit/537.36 (KHTML, like Gecko) Chrome/58.0.3029.110 Safari/537.36'\n",
    "}\n",
    "response = requests.get(url, headers=headers)\n",
    "doc = BeautifulSoup(response.text)"
   ]
  },
  {
   "cell_type": "code",
   "execution_count": 63,
   "id": "094bf37c-47ac-43de-9ee7-ca76e3da195a",
   "metadata": {},
   "outputs": [],
   "source": [
    "table = doc.find('table').find('tbody')"
   ]
  },
  {
   "cell_type": "code",
   "execution_count": 64,
   "id": "d5d131ec-d60c-44de-8212-8483262665d5",
   "metadata": {},
   "outputs": [],
   "source": [
    "table_rows = table.find_all('tr')"
   ]
  },
  {
   "cell_type": "code",
   "execution_count": 65,
   "id": "6d8f4817-d74f-404e-8544-c17a232a680e",
   "metadata": {},
   "outputs": [],
   "source": [
    "df = []\n",
    "for tr in table_rows:\n",
    "    td = tr.find_all('td')\n",
    "    row = [tr.text for tr in td]\n",
    "    try:\n",
    "        url = td[0].find('a')['href']\n",
    "        row.append(url)\n",
    "    except: pass\n",
    "    df.append(row)"
   ]
  },
  {
   "cell_type": "code",
   "execution_count": 66,
   "id": "ce8a5a08-f0e4-4944-b574-d3ce452e7044",
   "metadata": {},
   "outputs": [],
   "source": [
    "df = pd.DataFrame(df, columns=[\"Company\",\"Address\",\"Telephone\",\"Hours\", \"Url\"])"
   ]
  },
  {
   "cell_type": "code",
   "execution_count": 68,
   "id": "c9645656-eb4d-4e89-bcfe-25b4b1bfc68b",
   "metadata": {},
   "outputs": [
    {
     "data": {
      "text/html": [
       "<div>\n",
       "<style scoped>\n",
       "    .dataframe tbody tr th:only-of-type {\n",
       "        vertical-align: middle;\n",
       "    }\n",
       "\n",
       "    .dataframe tbody tr th {\n",
       "        vertical-align: top;\n",
       "    }\n",
       "\n",
       "    .dataframe thead th {\n",
       "        text-align: right;\n",
       "    }\n",
       "</style>\n",
       "<table border=\"1\" class=\"dataframe\">\n",
       "  <thead>\n",
       "    <tr style=\"text-align: right;\">\n",
       "      <th></th>\n",
       "      <th>Company</th>\n",
       "      <th>Address</th>\n",
       "      <th>Telephone</th>\n",
       "      <th>Hours</th>\n",
       "      <th>Url</th>\n",
       "    </tr>\n",
       "  </thead>\n",
       "  <tbody>\n",
       "    <tr>\n",
       "      <th>0</th>\n",
       "      <td>1 Stop Title &amp; Registration Services</td>\n",
       "      <td>940 N. Alma School Rd., #104\\n\\t\\t\\tChandler, ...</td>\n",
       "      <td>480.821.3288</td>\n",
       "      <td>Mon.-Fri. 8:00 a.m.-6:00 p.m. Sat. 9:00 a.m.-4...</td>\n",
       "      <td>http://az-mvd.com/</td>\n",
       "    </tr>\n",
       "    <tr>\n",
       "      <th>1</th>\n",
       "      <td>1 Stop Title &amp; Registration Services</td>\n",
       "      <td>5036 W. Cactus Rd., Ste. 2\\n\\t\\t\\tGlendale, AZ...</td>\n",
       "      <td>602.264.2400</td>\n",
       "      <td>Mon.-Fri. 8:00 a.m.-6:00 p.m. Sat. 8:30 a.m.-4...</td>\n",
       "      <td>http://az-mvd.com/</td>\n",
       "    </tr>\n",
       "    <tr>\n",
       "      <th>2</th>\n",
       "      <td>Academy of Driving Motor Vehicle Center</td>\n",
       "      <td>4733 E. Broadway Blvd.\\n\\t\\t\\tTucson, AZ 85711</td>\n",
       "      <td>520.750.7572</td>\n",
       "      <td>Mon.-Fri. 9 a.m.-5 p.m. and Sat. 9 a.m.-3 p.m.</td>\n",
       "      <td>None</td>\n",
       "    </tr>\n",
       "    <tr>\n",
       "      <th>3</th>\n",
       "      <td>Arizona Auto License</td>\n",
       "      <td>1337 W. Prince Rd\\n\\t\\t\\tTucson, AZ 85705</td>\n",
       "      <td>520.696.2023</td>\n",
       "      <td>Driver License Hours: \\n\\t\\t\\tMon.-Fri. 9 a.m....</td>\n",
       "      <td>None</td>\n",
       "    </tr>\n",
       "    <tr>\n",
       "      <th>4</th>\n",
       "      <td>Arizona Auto License Service LLC</td>\n",
       "      <td>1457 N. Eliseo C Felix Jr.\\n\\t\\t\\tWay, Ste. 10...</td>\n",
       "      <td>623.925.5455 or Fax 623.925.5879</td>\n",
       "      <td>Mon.-Fri. 8 a.m.-5 p.m.</td>\n",
       "      <td>None</td>\n",
       "    </tr>\n",
       "  </tbody>\n",
       "</table>\n",
       "</div>"
      ],
      "text/plain": [
       "                                   Company  \\\n",
       "0     1 Stop Title & Registration Services   \n",
       "1     1 Stop Title & Registration Services   \n",
       "2  Academy of Driving Motor Vehicle Center   \n",
       "3                     Arizona Auto License   \n",
       "4         Arizona Auto License Service LLC   \n",
       "\n",
       "                                             Address  \\\n",
       "0  940 N. Alma School Rd., #104\\n\\t\\t\\tChandler, ...   \n",
       "1  5036 W. Cactus Rd., Ste. 2\\n\\t\\t\\tGlendale, AZ...   \n",
       "2     4733 E. Broadway Blvd.\\n\\t\\t\\tTucson, AZ 85711   \n",
       "3          1337 W. Prince Rd\\n\\t\\t\\tTucson, AZ 85705   \n",
       "4  1457 N. Eliseo C Felix Jr.\\n\\t\\t\\tWay, Ste. 10...   \n",
       "\n",
       "                          Telephone  \\\n",
       "0                      480.821.3288   \n",
       "1                      602.264.2400   \n",
       "2                      520.750.7572   \n",
       "3                      520.696.2023   \n",
       "4  623.925.5455 or Fax 623.925.5879   \n",
       "\n",
       "                                               Hours                 Url  \n",
       "0  Mon.-Fri. 8:00 a.m.-6:00 p.m. Sat. 9:00 a.m.-4...  http://az-mvd.com/  \n",
       "1  Mon.-Fri. 8:00 a.m.-6:00 p.m. Sat. 8:30 a.m.-4...  http://az-mvd.com/  \n",
       "2     Mon.-Fri. 9 a.m.-5 p.m. and Sat. 9 a.m.-3 p.m.                None  \n",
       "3  Driver License Hours: \\n\\t\\t\\tMon.-Fri. 9 a.m....                None  \n",
       "4                           Mon.-Fri. 8 a.m.-5 p.m.                 None  "
      ]
     },
     "execution_count": 68,
     "metadata": {},
     "output_type": "execute_result"
    }
   ],
   "source": [
    "df.head()"
   ]
  },
  {
   "cell_type": "code",
   "execution_count": 67,
   "id": "fc60f5ac-0c23-41a2-a67b-e7412ff084cb",
   "metadata": {},
   "outputs": [],
   "source": [
    "df.to_csv(\"license-locations.csv\")"
   ]
  },
  {
   "cell_type": "code",
   "execution_count": null,
   "id": "7a63ca9a-9bff-4018-9cfb-73eeb369d275",
   "metadata": {},
   "outputs": [],
   "source": []
  }
 ],
 "metadata": {
  "kernelspec": {
   "display_name": "Python 3 (ipykernel)",
   "language": "python",
   "name": "python3"
  },
  "language_info": {
   "codemirror_mode": {
    "name": "ipython",
    "version": 3
   },
   "file_extension": ".py",
   "mimetype": "text/x-python",
   "name": "python",
   "nbconvert_exporter": "python",
   "pygments_lexer": "ipython3",
   "version": "3.12.10"
  }
 },
 "nbformat": 4,
 "nbformat_minor": 5
}

{
 "cells": [
  {
   "cell_type": "code",
   "execution_count": 30,
   "id": "6e323349-c1b7-4c8a-930d-1b0be8fd0df8",
   "metadata": {},
   "outputs": [],
   "source": [
    "import requests\n",
    "from bs4 import BeautifulSoup\n",
    "import pandas as pd\n",
    "\n",
    "url = \"https://www.lemonde.fr/\"\n",
    "response = requests.get(url)\n",
    "doc = BeautifulSoup(response.text)"
   ]
  },
  {
   "cell_type": "code",
   "execution_count": 108,
   "id": "be705764-0ab3-421a-9108-18a994c0f847",
   "metadata": {},
   "outputs": [
    {
     "name": "stdout",
     "output_type": "stream",
     "text": [
      "Getting https://www.lemonde.fr/economie/article/2025/06/11/casa-france-annonce-sa-liquidation-judiciaire-et-de-ses-143-magasins-700-salaries-concernes_6612238_3234.html\n",
      "Getting https://www.lemonde.fr/economie/article/2025/06/04/nucleaire-les-ogres-des-donnees-sont-partis-a-la-chasse-aux-electrons_6610480_3234.html\n",
      "Getting https://www.lemonde.fr/economie/article/2025/06/11/satellites-faudra-t-il-unir-nos-forces-dans-un-airbus-de-l-espace_6612194_3234.html\n",
      "Getting https://www.lemonde.fr/idees/article/2025/06/11/la-doctrine-trump-en-matiere-de-politique-etrangere-pourrait-s-appeler-regardons-ailleurs_6612180_3232.html\n",
      "Getting https://www.lemonde.fr/international/video/2025/05/08/comment-l-armee-chinoise-s-entraine-a-envahir-taiwan_6604029_3210.html\n",
      "Getting https://www.lemonde.fr/international/video/2025/06/06/video-donald-trump-et-elon-musk-se-disputent-publiquement_6610835_3210.html\n",
      "Getting https://www.lemonde.fr/international/video/2025/05/13/les-bombes-planantes-l-astuce-de-la-russie-pour-recycler-ses-vieilles-armes_6605754_3210.html\n",
      "Getting https://www.lemonde.fr/international/video/2025/06/02/ukraine-ce-que-l-on-sait-de-l-attaque-de-drones-inedite-lancee-contre-des-bases-russes_6610251_3210.html\n",
      "Getting https://www.lemonde.fr/idees/article/2025/06/11/ecologie-un-air-de-cohabitation-inedit_6612196_3232.html\n",
      "Getting https://www.lemonde.fr/idees/article/2025/06/07/l-ocean-fait-chavirer-nos-manieres-de-penser_6611003_3232.html\n",
      "Getting https://www.lemonde.fr/livres/article/2025/06/08/leonid-guirchovitch-ecrivain-russe-nous-serrons-les-rangs-derriere-notre-zelensky-commun_6611349_3260.html\n",
      "Getting https://www.lemonde.fr/idees/article/2025/06/11/a-l-echelle-mondiale-la-peche-industrielle-avale-chaque-annee-plus-de-20-milliards-de-dollars-en-subventions-prejudiciables-a-l-environnement_6612221_3232.html\n",
      "Getting https://www.lemonde.fr/culture/article/2025/06/11/avec-life-of-chuck-mike-flanagan-raconte-a-rebours-le-cours-d-une-existence-ordinaire_6612216_3246.html\n",
      "Getting https://www.lemonde.fr/livres/article/2025/06/11/nos-choix-de-livres-cette-semaine-la-correspondante-l-epopee-des-passeurs-la-route-qui-mene-au-pays_6612280_3260.html\n",
      "Getting https://www.lemonde.fr/culture/article/2025/06/06/avec-mon-cote-sud-france-3-lance-la-decentralisation-de-ses-programmes-nationaux_6610845_3246.html\n",
      "Getting https://www.lemonde.fr/culture/article/2025/06/11/le-chanteur-et-compositeur-des-beach-boys-brian-wilson-est-mort_6612261_3246.html\n",
      "Getting https://www.lemonde.fr/m-styles/article/2025/06/11/veronica-leoni-designer-de-calvin-klein-mon-but-est-de-renouveler-l-elegance-americaine_6612237_4497319.html\n",
      "Getting https://www.lemonde.fr/m-styles/article/2025/06/11/un-reuilly-rond-et-mineral-qui-ne-compte-pas-pour-du-beurre_6612210_4497319.html\n",
      "Getting https://www.lemonde.fr/societe/article/2025/06/10/faux-champagne-un-vigneron-juge-a-reims-pour-une-fraude-massive-et-une-usurpation-d-appellation_6612104_3224.html\n",
      "Getting https://www.lemonde.fr/m-perso/article/2025/06/08/si-le-psg-gagne-j-arrete-tiktok-je-me-tatoue-la-tour-eiffel-sur-le-bras-et-autres-paris-fous_6611158_4497916.html\n",
      "Getting https://abo.lemonde.fr/offre-offrir?lmd_medium=display&lmd_campaign=cnv_offrir_lmfr&lmd_creation=gratuit_mai-2025&lmd_variant=cta&lmd_format=header&lmd_source=autopromo\n"
     ]
    }
   ],
   "source": [
    "items = doc.find_all(class_=\"article\")\n",
    "rows = []\n",
    "\n",
    "for item in items:\n",
    "    row = {}\n",
    "    row['title'] = item.find(class_=\"article__title\").text\n",
    "    try:\n",
    "        row['subhed'] = item.find(class_=\"article__desc\").text\n",
    "    except: pass\n",
    "    try:\n",
    "        row['url'] = item['href']\n",
    "    except:\n",
    "        row['url'] = item.find('a')['href']\n",
    "    try: \n",
    "        byline_response = requests.get(row['url'])\n",
    "        print(\"Getting\", row['url'])\n",
    "        byline_doc = BeautifulSoup(byline_response.text)\n",
    "        row['byline'] = byline_doc.find(class_=\"meta__author\").text\n",
    "    except: pass\n",
    "\n",
    "    rows.append(row)"
   ]
  },
  {
   "cell_type": "code",
   "execution_count": 111,
   "id": "e82f688b-9426-495a-8d8b-441963dbf4ad",
   "metadata": {},
   "outputs": [],
   "source": [
    "df=pd.json_normalize(rows)\n",
    "df.to_csv(\"le_monde.csv\")"
   ]
  },
  {
   "cell_type": "code",
   "execution_count": null,
   "id": "827a1a5d-f5f3-4de0-8813-325dc29de474",
   "metadata": {},
   "outputs": [],
   "source": []
  }
 ],
 "metadata": {
  "kernelspec": {
   "display_name": "Python 3 (ipykernel)",
   "language": "python",
   "name": "python3"
  },
  "language_info": {
   "codemirror_mode": {
    "name": "ipython",
    "version": 3
   },
   "file_extension": ".py",
   "mimetype": "text/x-python",
   "name": "python",
   "nbconvert_exporter": "python",
   "pygments_lexer": "ipython3",
   "version": "3.12.10"
  }
 },
 "nbformat": 4,
 "nbformat_minor": 5
}
